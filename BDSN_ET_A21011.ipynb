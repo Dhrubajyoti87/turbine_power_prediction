{
  "nbformat": 4,
  "nbformat_minor": 0,
  "metadata": {
    "colab": {
      "name": "BDSN_ET_A21011.ipynb",
      "provenance": [],
      "collapsed_sections": []
    },
    "kernelspec": {
      "name": "python3",
      "display_name": "Python 3"
    },
    "language_info": {
      "name": "python"
    }
  },
  "cells": [
    {
      "cell_type": "markdown",
      "source": [
        "!apt is a linux command that instals new software on a computer. After updating!apt, install the openjdk-8-jdk-headless package."
      ],
      "metadata": {
        "id": "c3eAVf8vBeu6"
      }
    },
    {
      "cell_type": "code",
      "execution_count": 2,
      "metadata": {
        "colab": {
          "base_uri": "https://localhost:8080/"
        },
        "id": "dCDyQx_JZ1hk",
        "outputId": "52b58960-28ab-413f-d7f1-173d0730bf50"
      },
      "outputs": [
        {
          "output_type": "stream",
          "name": "stdout",
          "text": [
            "\n",
            "WARNING: apt does not have a stable CLI interface. Use with caution in scripts.\n",
            "\n",
            "\n",
            "WARNING: apt does not have a stable CLI interface. Use with caution in scripts.\n",
            "\n"
          ]
        }
      ],
      "source": [
        "!apt update > /dev/null\n",
        "!apt install openjdk-8-jdk-headless -qq > /dev/null"
      ]
    },
    {
      "cell_type": "markdown",
      "source": [
        "First, install Spark with the!wget command. It will be installed as a tgz file, which is a linux zip file format, and it will be unzipped using!tar, which is a linux unzip application. Then install pyspark, which allows you to use python to access spark."
      ],
      "metadata": {
        "id": "01YYOYPsBrcR"
      }
    },
    {
      "cell_type": "code",
      "source": [
        "!wget -q http://apache.osuosl.org/spark/spark-3.1.2/spark-3.1.2-bin-hadoop3.2.tgz\n",
        "!tar xf spark-3.1.2-bin-hadoop3.2.tgz\n",
        "!pip install -q pyspark\n",
        "import os\n",
        "os.environ[\"JAVA_HOME\"] = \"/usr/lib/jvm/java-8-openjdk-amd64\"\n",
        "os.environ[\"SPARK_HOME\"] = \"/content/spark-3.1.2-bin-hadoop3.2\""
      ],
      "metadata": {
        "id": "1c50fLyYaLNX"
      },
      "execution_count": 3,
      "outputs": []
    },
    {
      "cell_type": "code",
      "source": [
        "import pyspark\n",
        "from pyspark.sql import SparkSession\n",
        "spark = SparkSession.builder.master(\"local[*]\").config('spark.ui.port', '4050').getOrCreate()\n",
        "from pyspark.conf import SparkConf\n",
        "from pyspark import SparkContext"
      ],
      "metadata": {
        "id": "AsriEXIQakFF"
      },
      "execution_count": 4,
      "outputs": []
    },
    {
      "cell_type": "code",
      "source": [
        "sc = spark.sparkContext"
      ],
      "metadata": {
        "id": "KNX_CJ3baqJD"
      },
      "execution_count": 5,
      "outputs": []
    },
    {
      "cell_type": "code",
      "source": [
        "sc"
      ],
      "metadata": {
        "colab": {
          "base_uri": "https://localhost:8080/",
          "height": 196
        },
        "id": "CG8ghS3uaw6e",
        "outputId": "5514cd14-18d4-483a-847e-21fc4b314a5f"
      },
      "execution_count": 6,
      "outputs": [
        {
          "output_type": "execute_result",
          "data": {
            "text/html": [
              "\n",
              "        <div>\n",
              "            <p><b>SparkContext</b></p>\n",
              "\n",
              "            <p><a href=\"http://73d605c628a0:4050\">Spark UI</a></p>\n",
              "\n",
              "            <dl>\n",
              "              <dt>Version</dt>\n",
              "                <dd><code>v3.1.2</code></dd>\n",
              "              <dt>Master</dt>\n",
              "                <dd><code>local[*]</code></dd>\n",
              "              <dt>AppName</dt>\n",
              "                <dd><code>pyspark-shell</code></dd>\n",
              "            </dl>\n",
              "        </div>\n",
              "        "
            ],
            "text/plain": [
              "<SparkContext master=local[*] appName=pyspark-shell>"
            ]
          },
          "metadata": {},
          "execution_count": 6
        }
      ]
    },
    {
      "cell_type": "markdown",
      "source": [
        "Using the!wget command to download the data from my github repository, where the dataset is stored."
      ],
      "metadata": {
        "id": "lehMYqm_B3a7"
      }
    },
    {
      "cell_type": "code",
      "source": [
        "!wget -q https://raw.githubusercontent.com/Dhrubajyoti87/turbine_power_prediction/main/wind_data.csv"
      ],
      "metadata": {
        "id": "diM8Rs_BazIX"
      },
      "execution_count": 7,
      "outputs": []
    },
    {
      "cell_type": "code",
      "source": [
        "ls"
      ],
      "metadata": {
        "colab": {
          "base_uri": "https://localhost:8080/"
        },
        "id": "MdzJevmdbEDx",
        "outputId": "f029ed9c-02bc-4b50-ed2b-d496cac20d23"
      },
      "execution_count": 8,
      "outputs": [
        {
          "output_type": "stream",
          "name": "stdout",
          "text": [
            "\u001b[0m\u001b[01;34mdrive\u001b[0m/                      spark-3.1.2-bin-hadoop3.2.tgz    wind_data.csv.1\n",
            "\u001b[01;34msample_data\u001b[0m/                spark-3.1.2-bin-hadoop3.2.tgz.1\n",
            "\u001b[01;34mspark-3.1.2-bin-hadoop3.2\u001b[0m/  wind_data.csv\n"
          ]
        }
      ]
    },
    {
      "cell_type": "markdown",
      "source": [
        "**Importing Libraries**"
      ],
      "metadata": {
        "id": "zQZjDH1W5hXR"
      }
    },
    {
      "cell_type": "code",
      "source": [
        "import numpy as np \n",
        "import pandas as pd \n",
        "import matplotlib.pyplot as plt\n",
        "import seaborn as sns\n",
        "sns.set_style('white')\n",
        "\n",
        "from warnings import filterwarnings\n",
        "filterwarnings('ignore')"
      ],
      "metadata": {
        "id": "YnX3W_0TbtVK"
      },
      "execution_count": 9,
      "outputs": []
    },
    {
      "cell_type": "markdown",
      "source": [
        "With the spark read csv command, I read a CSV file and saved it to a variable called df."
      ],
      "metadata": {
        "id": "CdWDD6CyCLGX"
      }
    },
    {
      "cell_type": "code",
      "source": [
        "df = spark.read.csv('/content/wind_data.csv', header=True, inferSchema=True)"
      ],
      "metadata": {
        "id": "w9Uzw8Opb4wy"
      },
      "execution_count": 10,
      "outputs": []
    },
    {
      "cell_type": "markdown",
      "source": [
        "Converting all the column names to lower case"
      ],
      "metadata": {
        "id": "Z4uqEBE553W7"
      }
    },
    {
      "cell_type": "code",
      "source": [
        "df = df.toDF(*[c.lower() for c in df.columns])"
      ],
      "metadata": {
        "id": "CPiM_ojWrciB"
      },
      "execution_count": 11,
      "outputs": []
    },
    {
      "cell_type": "markdown",
      "source": [
        "In a spark dataframe, the top 5 rows of the loaded data are shown."
      ],
      "metadata": {
        "id": "y8FRwRh7Ciqz"
      }
    },
    {
      "cell_type": "code",
      "source": [
        "print(df.show(5))"
      ],
      "metadata": {
        "colab": {
          "base_uri": "https://localhost:8080/"
        },
        "id": "8_K5UTXkdv2_",
        "outputId": "b80a2e4d-c437-4015-ee20-a463e34c7a35"
      },
      "execution_count": 12,
      "outputs": [
        {
          "output_type": "stream",
          "name": "stdout",
          "text": [
            "+----------------+-------------------+----------------+-----------------------------+------------------+\n",
            "|       date/time|lv activepower (kw)|wind speed (m/s)|theoretical_power_curve (kwh)|wind direction (°)|\n",
            "+----------------+-------------------+----------------+-----------------------------+------------------+\n",
            "|01 01 2018 00:00|   380.047790527343|5.31133604049682|             416.328907824861|  259.994903564453|\n",
            "|01 01 2018 00:10|    453.76919555664|5.67216682434082|             519.917511061494|   268.64111328125|\n",
            "|01 01 2018 00:20|   306.376586914062|5.21603679656982|             390.900015810951|  272.564788818359|\n",
            "|01 01 2018 00:30|   419.645904541015|5.65967416763305|             516.127568975674|  271.258087158203|\n",
            "|01 01 2018 00:40|   380.650695800781|5.57794094085693|             491.702971953588|  265.674285888671|\n",
            "+----------------+-------------------+----------------+-----------------------------+------------------+\n",
            "only showing top 5 rows\n",
            "\n",
            "None\n"
          ]
        }
      ]
    },
    {
      "cell_type": "markdown",
      "source": [
        "The number of rows and columns is counted. There are 50530 rows and 5 columns in all."
      ],
      "metadata": {
        "id": "Ba8Bu82ICWwd"
      }
    },
    {
      "cell_type": "code",
      "source": [
        "print((df.count(),len(df.columns)))"
      ],
      "metadata": {
        "colab": {
          "base_uri": "https://localhost:8080/"
        },
        "id": "eI3Ab1Btcu8-",
        "outputId": "2bc09ace-adb9-47a3-ae28-9152dddce75f"
      },
      "execution_count": 13,
      "outputs": [
        {
          "output_type": "stream",
          "name": "stdout",
          "text": [
            "(50530, 5)\n"
          ]
        }
      ]
    },
    {
      "cell_type": "markdown",
      "source": [
        "Schema is a term used to describe the structure of a dataframe. This command also displays each column's data types."
      ],
      "metadata": {
        "id": "soA58LKECsgY"
      }
    },
    {
      "cell_type": "code",
      "source": [
        "df.printSchema()"
      ],
      "metadata": {
        "colab": {
          "base_uri": "https://localhost:8080/"
        },
        "id": "loLjUyafc8HD",
        "outputId": "47cc6331-849d-45e0-ff0d-ec9503cce188"
      },
      "execution_count": 14,
      "outputs": [
        {
          "output_type": "stream",
          "name": "stdout",
          "text": [
            "root\n",
            " |-- date/time: string (nullable = true)\n",
            " |-- lv activepower (kw): double (nullable = true)\n",
            " |-- wind speed (m/s): double (nullable = true)\n",
            " |-- theoretical_power_curve (kwh): double (nullable = true)\n",
            " |-- wind direction (°): double (nullable = true)\n",
            "\n"
          ]
        }
      ]
    },
    {
      "cell_type": "markdown",
      "source": [
        "The Describe function returns a five-point statistical overview of the loaded datset's numerical columns, such as count, mean, standard deviation, minimum range, and maximum range."
      ],
      "metadata": {
        "id": "oR83OKCJC04h"
      }
    },
    {
      "cell_type": "code",
      "source": [
        "df.describe().show()"
      ],
      "metadata": {
        "colab": {
          "base_uri": "https://localhost:8080/"
        },
        "id": "9xxabYhW4Lwu",
        "outputId": "bada6bee-273a-458c-e1d4-68e302fab451"
      },
      "execution_count": 15,
      "outputs": [
        {
          "output_type": "stream",
          "name": "stdout",
          "text": [
            "+-------+----------------+-------------------+-----------------+-----------------------------+------------------+\n",
            "|summary|       date/time|lv activepower (kw)| wind speed (m/s)|theoretical_power_curve (kwh)|wind direction (°)|\n",
            "+-------+----------------+-------------------+-----------------+-----------------------------+------------------+\n",
            "|  count|           50530|              50530|            50530|                        50530|             50530|\n",
            "|   mean|            null| 1307.6843318793121|7.557952236083209|           1492.1754629583377|123.68755850939199|\n",
            "| stddev|            null| 1312.4592421268117|4.227166055611553|           1368.0182378726681| 93.44373572772585|\n",
            "|    min|01 01 2018 00:00|  -2.47140502929687|              0.0|                          0.0|               0.0|\n",
            "|    max|31 12 2018 23:50|   3618.73291015625| 25.2060108184814|                       3600.0|  359.997589111328|\n",
            "+-------+----------------+-------------------+-----------------+-----------------------------+------------------+\n",
            "\n"
          ]
        }
      ]
    },
    {
      "cell_type": "markdown",
      "source": [
        "Creating Month and Hour Columns for further calculation and exploration of the dataset."
      ],
      "metadata": {
        "id": "EpbC5k4V6OOx"
      }
    },
    {
      "cell_type": "code",
      "source": [
        "# Extracting a substring from columns to create month and hour variables\n",
        "\n",
        "from pyspark.sql.functions import substring\n",
        "df = df.withColumn(\"month\", substring(\"date/time\", 4,2))\n",
        "df = df.withColumn(\"hour\", substring(\"date/time\", 12,2))\n",
        "\n",
        "# Converting string month and hour variables to integer\n",
        "from pyspark.sql.types import IntegerType\n",
        "df = df.withColumn('month', df.month.cast(IntegerType()))\n",
        "df = df.withColumn('hour', df.hour.cast(IntegerType()))\n",
        "\n",
        "print(df.show(5))"
      ],
      "metadata": {
        "colab": {
          "base_uri": "https://localhost:8080/"
        },
        "id": "BNF0IqK5d4oH",
        "outputId": "2d818e35-cc11-458e-8863-137633f86549"
      },
      "execution_count": 16,
      "outputs": [
        {
          "output_type": "stream",
          "name": "stdout",
          "text": [
            "+----------------+-------------------+----------------+-----------------------------+------------------+-----+----+\n",
            "|       date/time|lv activepower (kw)|wind speed (m/s)|theoretical_power_curve (kwh)|wind direction (°)|month|hour|\n",
            "+----------------+-------------------+----------------+-----------------------------+------------------+-----+----+\n",
            "|01 01 2018 00:00|   380.047790527343|5.31133604049682|             416.328907824861|  259.994903564453|    1|   0|\n",
            "|01 01 2018 00:10|    453.76919555664|5.67216682434082|             519.917511061494|   268.64111328125|    1|   0|\n",
            "|01 01 2018 00:20|   306.376586914062|5.21603679656982|             390.900015810951|  272.564788818359|    1|   0|\n",
            "|01 01 2018 00:30|   419.645904541015|5.65967416763305|             516.127568975674|  271.258087158203|    1|   0|\n",
            "|01 01 2018 00:40|   380.650695800781|5.57794094085693|             491.702971953588|  265.674285888671|    1|   0|\n",
            "+----------------+-------------------+----------------+-----------------------------+------------------+-----+----+\n",
            "only showing top 5 rows\n",
            "\n",
            "None\n"
          ]
        }
      ]
    },
    {
      "cell_type": "markdown",
      "source": [
        "# **EDA**"
      ],
      "metadata": {
        "id": "KWNHhXTtheB_"
      }
    },
    {
      "cell_type": "markdown",
      "source": [
        "Distribution of Wind Speed."
      ],
      "metadata": {
        "id": "hE_i4KpADZOT"
      }
    },
    {
      "cell_type": "code",
      "source": [
        "df_plot = df.select(['wind speed (m/s)']).toPandas()\n",
        "sns.distplot(df_plot)\n",
        "plt.title('Distribution of Wind Speed')"
      ],
      "metadata": {
        "colab": {
          "base_uri": "https://localhost:8080/",
          "height": 298
        },
        "id": "MV8A4DZisCsr",
        "outputId": "9f836c94-da11-49c6-cd0d-aa6bb670abdd"
      },
      "execution_count": 17,
      "outputs": [
        {
          "output_type": "execute_result",
          "data": {
            "text/plain": [
              "Text(0.5, 1.0, 'Distribution of Wind Speed')"
            ]
          },
          "metadata": {},
          "execution_count": 17
        },
        {
          "output_type": "display_data",
          "data": {
            "image/png": "[encoded data removed]",
            "text/plain": [
              "<Figure size 432x288 with 1 Axes>"
            ]
          },
          "metadata": {}
        }
      ]
    },
    {
      "cell_type": "markdown",
      "source": [
        "Distribution of Wind Direction"
      ],
      "metadata": {
        "id": "MCNEOKjWDe9l"
      }
    },
    {
      "cell_type": "code",
      "source": [
        "df_plot = df.select(['wind direction (°)']).toPandas()\n",
        "sns.distplot(df_plot)\n",
        "plt.title('Distribution of Wind Direction')"
      ],
      "metadata": {
        "colab": {
          "base_uri": "https://localhost:8080/",
          "height": 298
        },
        "id": "UvV_vz9XtESr",
        "outputId": "95bb3840-af64-44a6-edfa-cef4755d6525"
      },
      "execution_count": 18,
      "outputs": [
        {
          "output_type": "execute_result",
          "data": {
            "text/plain": [
              "Text(0.5, 1.0, 'Distribution of Wind Direction')"
            ]
          },
          "metadata": {},
          "execution_count": 18
        },
        {
          "output_type": "display_data",
          "data": {
            "image/png": "[encoded data removed]",
            "text/plain": [
              "<Figure size 432x288 with 1 Axes>"
            ]
          },
          "metadata": {}
        }
      ]
    },
    {
      "cell_type": "markdown",
      "source": [
        "Distribution of lv Active Power."
      ],
      "metadata": {
        "id": "kHYS8WN3Dj20"
      }
    },
    {
      "cell_type": "code",
      "source": [
        "df_plot = df.select(['lv activepower (kw)']).toPandas()\n",
        "sns.distplot(df_plot)\n",
        "plt.title('Distribution of lv Active Power')"
      ],
      "metadata": {
        "colab": {
          "base_uri": "https://localhost:8080/",
          "height": 298
        },
        "id": "-lQhg2HhtaFv",
        "outputId": "ca434e67-cf6b-43d4-c3ae-450360794307"
      },
      "execution_count": 19,
      "outputs": [
        {
          "output_type": "execute_result",
          "data": {
            "text/plain": [
              "Text(0.5, 1.0, 'Distribution of lv Active Power')"
            ]
          },
          "metadata": {},
          "execution_count": 19
        },
        {
          "output_type": "display_data",
          "data": {
            "image/png": "[encoded data removed]",
            "text/plain": [
              "<Figure size 432x288 with 1 Axes>"
            ]
          },
          "metadata": {}
        }
      ]
    },
    {
      "cell_type": "markdown",
      "source": [
        "Distribution of Theoretical Power."
      ],
      "metadata": {
        "id": "f2qO2U3zDn3l"
      }
    },
    {
      "cell_type": "code",
      "source": [
        "df_plot = df.select(['theoretical_power_curve (kwh)']).toPandas()\n",
        "sns.distplot(df_plot)\n",
        "plt.title('Distribution of Theoretical Power')"
      ],
      "metadata": {
        "colab": {
          "base_uri": "https://localhost:8080/",
          "height": 298
        },
        "id": "Gr7_XJmntppL",
        "outputId": "5ac3a91b-956e-480d-d516-f40ad7ceb565"
      },
      "execution_count": 20,
      "outputs": [
        {
          "output_type": "execute_result",
          "data": {
            "text/plain": [
              "Text(0.5, 1.0, 'Distribution of Theoretical Power')"
            ]
          },
          "metadata": {},
          "execution_count": 20
        },
        {
          "output_type": "display_data",
          "data": {
            "image/png": "[encoded data removed]",
            "text/plain": [
              "<Figure size 432x288 with 1 Axes>"
            ]
          },
          "metadata": {}
        }
      ]
    },
    {
      "cell_type": "markdown",
      "source": [
        "Plotting Monthly Average Power Production"
      ],
      "metadata": {
        "id": "XaDMawWkillP"
      }
    },
    {
      "cell_type": "code",
      "source": [
        "# Average power production by month\n",
        "monthly = df.groupby('month').mean('lv activepower (kw)').sort('avg(lv activepower (kw))').toPandas()\n",
        "plt.figure(figsize=(15,5))\n",
        "sns.barplot(x='month', y='avg(lv activepower (kw))', data=monthly, palette='flare')\n",
        "plt.title('Monthly Average Power Production');"
      ],
      "metadata": {
        "colab": {
          "base_uri": "https://localhost:8080/",
          "height": 350
        },
        "id": "3T9pSUsViUE5",
        "outputId": "c1060783-d4b0-4638-f03e-0dd2ef8ab8ce"
      },
      "execution_count": 21,
      "outputs": [
        {
          "output_type": "display_data",
          "data": {
            "image/png": "[encoded data removed]",
            "text/plain": [
              "<Figure size 1080x360 with 1 Axes>"
            ]
          },
          "metadata": {}
        }
      ]
    },
    {
      "cell_type": "markdown",
      "source": [
        "In March, August and November, the average power production is higher and in April, June, July and August is lower."
      ],
      "metadata": {
        "id": "5awA0hHNF9gC"
      }
    },
    {
      "cell_type": "markdown",
      "source": [
        "Plotting Hourly Average Power Production"
      ],
      "metadata": {
        "id": "RFY2XaaAinPy"
      }
    },
    {
      "cell_type": "code",
      "source": [
        "# Average power production by hour\n",
        "hourly = df.groupby('hour').mean('lv activepower (kw)').sort('avg(lv activepower (kw))').toPandas()\n",
        "plt.figure(figsize=(15,5))\n",
        "sns.barplot(x='hour', y='avg(lv activepower (kw))', data=hourly, palette='viridis')\n",
        "plt.title('Hourly Average Power Production');"
      ],
      "metadata": {
        "colab": {
          "base_uri": "https://localhost:8080/",
          "height": 350
        },
        "id": "wGdZjig1ic2I",
        "outputId": "621f4f5b-a23c-4d0a-b324-b74c146a9800"
      },
      "execution_count": 22,
      "outputs": [
        {
          "output_type": "display_data",
          "data": {
            "image/png": "[encoded data removed]",
            "text/plain": [
              "<Figure size 1080x360 with 1 Axes>"
            ]
          },
          "metadata": {}
        }
      ]
    },
    {
      "cell_type": "markdown",
      "source": [
        "The average power production daily decays after 04:00 and start to increase after 12:00 and is higher  between 16:00 and 24:00."
      ],
      "metadata": {
        "id": "hEwE1nBtGGmZ"
      }
    },
    {
      "cell_type": "markdown",
      "source": [
        "Relation between the wind speed and power production by increasing wind speed by 5m/s"
      ],
      "metadata": {
        "id": "nqsIEA7ZizEr"
      }
    },
    {
      "cell_type": "code",
      "source": [
        "# Finding average power production for 5 m/s wind speed increments\n",
        "wind_speed = []\n",
        "avg_power = []\n",
        "for i in [0,5,10,15,20]:\n",
        "    avg_value = df.filter((df['wind speed (m/s)'] > i) \n",
        "                                & (df['wind speed (m/s)'] <= i+5))\\\n",
        "                                .agg({'lv activepower (kw)':'mean'}).collect()[0][0] \n",
        "    avg_power.append(avg_value)\n",
        "    wind_speed.append(str(i) + '-' + str(i+5))\n",
        "plt.figure(figsize=(10,5))\n",
        "sns.barplot(x=wind_speed, y=avg_power, palette='magma')\n",
        "plt.title('Avg Power Production for 5 m/s Increment of Wind Speed')\n",
        "plt.xlabel('Wind Speed')\n",
        "plt.ylabel('Average Power Production')"
      ],
      "metadata": {
        "colab": {
          "base_uri": "https://localhost:8080/",
          "height": 367
        },
        "id": "JjuQXFiTjmz7",
        "outputId": "188e5ea3-6923-49a3-92c2-ec92377c87b1"
      },
      "execution_count": 23,
      "outputs": [
        {
          "output_type": "execute_result",
          "data": {
            "text/plain": [
              "Text(0, 0.5, 'Average Power Production')"
            ]
          },
          "metadata": {},
          "execution_count": 23
        },
        {
          "output_type": "display_data",
          "data": {
            "image/png": "[encoded data removed]",
            "text/plain": [
              "<Figure size 720x360 with 1 Axes>"
            ]
          },
          "metadata": {}
        }
      ]
    },
    {
      "cell_type": "markdown",
      "source": [
        "From the graph above we can see the power production reaches near a maximum level after the wind speed reaches 15 m/s."
      ],
      "metadata": {
        "id": "ovvcBnNekARS"
      }
    },
    {
      "cell_type": "markdown",
      "source": [
        "Boxplot for Wind Direction"
      ],
      "metadata": {
        "id": "ACGuLQeDEQu8"
      }
    },
    {
      "cell_type": "code",
      "source": [
        "df_plot = df.select(['wind direction (°)']).toPandas()\n",
        "plt.figure(figsize=(10,5))\n",
        "sns.boxplot(df_plot['wind direction (°)'], color ='springgreen', linewidth=2.5, fliersize=2.5)\n",
        "plt.title('Distribution of Wind Direction')"
      ],
      "metadata": {
        "colab": {
          "base_uri": "https://localhost:8080/",
          "height": 367
        },
        "id": "CIBARkfeB4LZ",
        "outputId": "c01062d7-9704-4a84-a73e-429852bddcb2"
      },
      "execution_count": 24,
      "outputs": [
        {
          "output_type": "execute_result",
          "data": {
            "text/plain": [
              "Text(0.5, 1.0, 'Distribution of Wind Direction')"
            ]
          },
          "metadata": {},
          "execution_count": 24
        },
        {
          "output_type": "display_data",
          "data": {
            "image/png": "[encoded data removed]",
            "text/plain": [
              "<Figure size 720x360 with 1 Axes>"
            ]
          },
          "metadata": {}
        }
      ]
    },
    {
      "cell_type": "markdown",
      "source": [
        "There are no outliers for Wind Direction."
      ],
      "metadata": {
        "id": "ZHW5j3RDEW2l"
      }
    },
    {
      "cell_type": "markdown",
      "source": [
        "Boxplot for Theoretical Power"
      ],
      "metadata": {
        "id": "p7Zo9hE7EdS8"
      }
    },
    {
      "cell_type": "code",
      "source": [
        "df_plot = df.select(['theoretical_power_curve (kwh)']).toPandas()\n",
        "plt.figure(figsize=(10,5))\n",
        "sns.boxplot(df_plot['theoretical_power_curve (kwh)'], color ='springgreen', linewidth=2.5, fliersize=2.5)\n",
        "plt.title('Distribution of Theoretical_Power_Curve (kwh)')"
      ],
      "metadata": {
        "colab": {
          "base_uri": "https://localhost:8080/",
          "height": 368
        },
        "id": "dHEGHsnDCThc",
        "outputId": "13689044-74c6-428d-b348-a075a154eb5e"
      },
      "execution_count": 25,
      "outputs": [
        {
          "output_type": "execute_result",
          "data": {
            "text/plain": [
              "Text(0.5, 1.0, 'Distribution of Theoretical_Power_Curve (kwh)')"
            ]
          },
          "metadata": {},
          "execution_count": 25
        },
        {
          "output_type": "display_data",
          "data": {
            "image/png": "[encoded data removed]",
            "text/plain": [
              "<Figure size 720x360 with 1 Axes>"
            ]
          },
          "metadata": {}
        }
      ]
    },
    {
      "cell_type": "markdown",
      "source": [
        "There is no outlier for Theoretical Power."
      ],
      "metadata": {
        "id": "ClcPXpvpEjaM"
      }
    },
    {
      "cell_type": "markdown",
      "source": [
        "Distribution for lv Active Power"
      ],
      "metadata": {
        "id": "Q_e9CoidEo9V"
      }
    },
    {
      "cell_type": "code",
      "source": [
        "df_plot = df.select(['lv activepower (kw)']).toPandas()\n",
        "plt.figure(figsize=(10,5))\n",
        "sns.boxplot(df_plot['lv activepower (kw)'], color ='springgreen', linewidth=2.5, fliersize=2.5)\n",
        "plt.title('Distribution of lv Activepower (kw)')"
      ],
      "metadata": {
        "colab": {
          "base_uri": "https://localhost:8080/",
          "height": 367
        },
        "id": "00I_1JKaChf6",
        "outputId": "f6a0e65b-33f4-4444-e42d-bd16bdaa6c7f"
      },
      "execution_count": 26,
      "outputs": [
        {
          "output_type": "execute_result",
          "data": {
            "text/plain": [
              "Text(0.5, 1.0, 'Distribution of lv Activepower (kw)')"
            ]
          },
          "metadata": {},
          "execution_count": 26
        },
        {
          "output_type": "display_data",
          "data": {
            "image/png": "[encoded data removed]",
            "text/plain": [
              "<Figure size 720x360 with 1 Axes>"
            ]
          },
          "metadata": {}
        }
      ]
    },
    {
      "cell_type": "markdown",
      "source": [
        "There is no outlier for lv Active Power"
      ],
      "metadata": {
        "id": "N74fAPlVE4QT"
      }
    },
    {
      "cell_type": "markdown",
      "source": [
        "Boxplot for Wind Speed"
      ],
      "metadata": {
        "id": "K9yThj2PE_yD"
      }
    },
    {
      "cell_type": "code",
      "source": [
        "df_plot = df.select(['wind speed (m/s)']).toPandas()\n",
        "plt.figure(figsize=(10,5))\n",
        "sns.boxplot(df_plot['wind speed (m/s)'], color ='springgreen', linewidth=2.5, fliersize=2.5)\n",
        "plt.title('Distribution of Wind Speed (m/s)')"
      ],
      "metadata": {
        "colab": {
          "base_uri": "https://localhost:8080/",
          "height": 367
        },
        "id": "nv4Bp3FXCvVk",
        "outputId": "ccfb51ec-955b-4336-a8b3-2f568f7737bb"
      },
      "execution_count": 27,
      "outputs": [
        {
          "output_type": "execute_result",
          "data": {
            "text/plain": [
              "Text(0.5, 1.0, 'Distribution of Wind Speed (m/s)')"
            ]
          },
          "metadata": {},
          "execution_count": 27
        },
        {
          "output_type": "display_data",
          "data": {
            "image/png": "[encoded data removed]",
            "text/plain": [
              "<Figure size 720x360 with 1 Axes>"
            ]
          },
          "metadata": {}
        }
      ]
    },
    {
      "cell_type": "markdown",
      "source": [
        "There are some outliers for Wind Speed. Have to do outlier treatment in the next stage of data processing before applying Machine Learning model for prediction to increase model accuracy."
      ],
      "metadata": {
        "id": "6ADUm6g6FDOD"
      }
    },
    {
      "cell_type": "markdown",
      "source": [
        ""
      ],
      "metadata": {
        "id": "_NRgUgKlFZLW"
      }
    },
    {
      "cell_type": "markdown",
      "source": [
        "Correlation among the variables"
      ],
      "metadata": {
        "id": "mfbyTcJqFezM"
      }
    },
    {
      "cell_type": "code",
      "source": [
        "df_corr = df.toPandas()\n",
        "corr = df_corr.corr()\n",
        "corr\n",
        "#corr.style.background_gradient(cmap='YlGnBu')"
      ],
      "metadata": {
        "colab": {
          "base_uri": "https://localhost:8080/",
          "height": 238
        },
        "id": "blr4Ac3nkBZg",
        "outputId": "1933958f-008c-4c27-9c1d-a11464d87442"
      },
      "execution_count": 28,
      "outputs": [
        {
          "output_type": "execute_result",
          "data": {
            "text/html": [
              "\n",
              "  <div id=\"df-4a5adf5b-a519-4e74-8582-175c417097a3\">\n",
              "    <div class=\"colab-df-container\">\n",
              "      <div>\n",
              "<style scoped>\n",
              "    .dataframe tbody tr th:only-of-type {\n",
              "        vertical-align: middle;\n",
              "    }\n",
              "\n",
              "    .dataframe tbody tr th {\n",
              "        vertical-align: top;\n",
              "    }\n",
              "\n",
              "    .dataframe thead th {\n",
              "        text-align: right;\n",
              "    }\n",
              "</style>\n",
              "<table border=\"1\" class=\"dataframe\">\n",
              "  <thead>\n",
              "    <tr style=\"text-align: right;\">\n",
              "      <th></th>\n",
              "      <th>lv activepower (kw)</th>\n",
              "      <th>wind speed (m/s)</th>\n",
              "      <th>theoretical_power_curve (kwh)</th>\n",
              "      <th>wind direction (°)</th>\n",
              "      <th>month</th>\n",
              "      <th>hour</th>\n",
              "    </tr>\n",
              "  </thead>\n",
              "  <tbody>\n",
              "    <tr>\n",
              "      <th>lv activepower (kw)</th>\n",
              "      <td>1.000000</td>\n",
              "      <td>0.912774</td>\n",
              "      <td>0.949918</td>\n",
              "      <td>-0.062702</td>\n",
              "      <td>0.031010</td>\n",
              "      <td>0.036355</td>\n",
              "    </tr>\n",
              "    <tr>\n",
              "      <th>wind speed (m/s)</th>\n",
              "      <td>0.912774</td>\n",
              "      <td>1.000000</td>\n",
              "      <td>0.944209</td>\n",
              "      <td>-0.077188</td>\n",
              "      <td>-0.013349</td>\n",
              "      <td>0.024754</td>\n",
              "    </tr>\n",
              "    <tr>\n",
              "      <th>theoretical_power_curve (kwh)</th>\n",
              "      <td>0.949918</td>\n",
              "      <td>0.944209</td>\n",
              "      <td>1.000000</td>\n",
              "      <td>-0.099076</td>\n",
              "      <td>0.004455</td>\n",
              "      <td>0.034636</td>\n",
              "    </tr>\n",
              "    <tr>\n",
              "      <th>wind direction (°)</th>\n",
              "      <td>-0.062702</td>\n",
              "      <td>-0.077188</td>\n",
              "      <td>-0.099076</td>\n",
              "      <td>1.000000</td>\n",
              "      <td>-0.180712</td>\n",
              "      <td>-0.015355</td>\n",
              "    </tr>\n",
              "    <tr>\n",
              "      <th>month</th>\n",
              "      <td>0.031010</td>\n",
              "      <td>-0.013349</td>\n",
              "      <td>0.004455</td>\n",
              "      <td>-0.180712</td>\n",
              "      <td>1.000000</td>\n",
              "      <td>0.001510</td>\n",
              "    </tr>\n",
              "    <tr>\n",
              "      <th>hour</th>\n",
              "      <td>0.036355</td>\n",
              "      <td>0.024754</td>\n",
              "      <td>0.034636</td>\n",
              "      <td>-0.015355</td>\n",
              "      <td>0.001510</td>\n",
              "      <td>1.000000</td>\n",
              "    </tr>\n",
              "  </tbody>\n",
              "</table>\n",
              "</div>\n",
              "      <button class=\"colab-df-convert\" onclick=\"convertToInteractive('df-4a5adf5b-a519-4e74-8582-175c417097a3')\"\n",
              "              title=\"Convert this dataframe to an interactive table.\"\n",
              "              style=\"display:none;\">\n",
              "        \n",
              "  <svg xmlns=\"http://www.w3.org/2000/svg\" height=\"24px\"viewBox=\"0 0 24 24\"\n",
              "       width=\"24px\">\n",
              "    <path d=\"M0 0h24v24H0V0z\" fill=\"none\"/>\n",
              "    <path d=\"M18.56 5.44l.94 2.06.94-2.06 2.06-.94-2.06-.94-.94-2.06-.94 2.06-2.06.94zm-11 1L8.5 8.5l.94-2.06 2.06-.94-2.06-.94L8.5 2.5l-.94 2.06-2.06.94zm10 10l.94 2.06.94-2.06 2.06-.94-2.06-.94-.94-2.06-.94 2.06-2.06.94z\"/><path d=\"M17.41 7.96l-1.37-1.37c-.4-.4-.92-.59-1.43-.59-.52 0-1.04.2-1.43.59L10.3 9.45l-7.72 7.72c-.78.78-.78 2.05 0 2.83L4 21.41c.39.39.9.59 1.41.59.51 0 1.02-.2 1.41-.59l7.78-7.78 2.81-2.81c.8-.78.8-2.07 0-2.86zM5.41 20L4 18.59l7.72-7.72 1.47 1.35L5.41 20z\"/>\n",
              "  </svg>\n",
              "      </button>\n",
              "      \n",
              "  <style>\n",
              "    .colab-df-container {\n",
              "      display:flex;\n",
              "      flex-wrap:wrap;\n",
              "      gap: 12px;\n",
              "    }\n",
              "\n",
              "    .colab-df-convert {\n",
              "      background-color: #E8F0FE;\n",
              "      border: none;\n",
              "      border-radius: 50%;\n",
              "      cursor: pointer;\n",
              "      display: none;\n",
              "      fill: #1967D2;\n",
              "      height: 32px;\n",
              "      padding: 0 0 0 0;\n",
              "      width: 32px;\n",
              "    }\n",
              "\n",
              "    .colab-df-convert:hover {\n",
              "      background-color: #E2EBFA;\n",
              "      box-shadow: 0px 1px 2px rgba(60, 64, 67, 0.3), 0px 1px 3px 1px rgba(60, 64, 67, 0.15);\n",
              "      fill: #174EA6;\n",
              "    }\n",
              "\n",
              "    [theme=dark] .colab-df-convert {\n",
              "      background-color: #3B4455;\n",
              "      fill: #D2E3FC;\n",
              "    }\n",
              "\n",
              "    [theme=dark] .colab-df-convert:hover {\n",
              "      background-color: #434B5C;\n",
              "      box-shadow: 0px 1px 3px 1px rgba(0, 0, 0, 0.15);\n",
              "      filter: drop-shadow(0px 1px 2px rgba(0, 0, 0, 0.3));\n",
              "      fill: #FFFFFF;\n",
              "    }\n",
              "  </style>\n",
              "\n",
              "      <script>\n",
              "        const buttonEl =\n",
              "          document.querySelector('#df-4a5adf5b-a519-4e74-8582-175c417097a3 button.colab-df-convert');\n",
              "        buttonEl.style.display =\n",
              "          google.colab.kernel.accessAllowed ? 'block' : 'none';\n",
              "\n",
              "        async function convertToInteractive(key) {\n",
              "          const element = document.querySelector('#df-4a5adf5b-a519-4e74-8582-175c417097a3');\n",
              "          const dataTable =\n",
              "            await google.colab.kernel.invokeFunction('convertToInteractive',\n",
              "                                                     [key], {});\n",
              "          if (!dataTable) return;\n",
              "\n",
              "          const docLinkHtml = 'Like what you see? Visit the ' +\n",
              "            '<a target=\"_blank\" href=https://colab.research.google.com/notebooks/data_table.ipynb>data table notebook</a>'\n",
              "            + ' to learn more about interactive tables.';\n",
              "          element.innerHTML = '';\n",
              "          dataTable['output_type'] = 'display_data';\n",
              "          await google.colab.output.renderOutput(dataTable, element);\n",
              "          const docLink = document.createElement('div');\n",
              "          docLink.innerHTML = docLinkHtml;\n",
              "          element.appendChild(docLink);\n",
              "        }\n",
              "      </script>\n",
              "    </div>\n",
              "  </div>\n",
              "  "
            ],
            "text/plain": [
              "                               lv activepower (kw)  wind speed (m/s)  \\\n",
              "lv activepower (kw)                       1.000000          0.912774   \n",
              "wind speed (m/s)                          0.912774          1.000000   \n",
              "theoretical_power_curve (kwh)             0.949918          0.944209   \n",
              "wind direction (°)                       -0.062702         -0.077188   \n",
              "month                                     0.031010         -0.013349   \n",
              "hour                                      0.036355          0.024754   \n",
              "\n",
              "                               theoretical_power_curve (kwh)  \\\n",
              "lv activepower (kw)                                 0.949918   \n",
              "wind speed (m/s)                                    0.944209   \n",
              "theoretical_power_curve (kwh)                       1.000000   \n",
              "wind direction (°)                                 -0.099076   \n",
              "month                                               0.004455   \n",
              "hour                                                0.034636   \n",
              "\n",
              "                               wind direction (°)     month      hour  \n",
              "lv activepower (kw)                     -0.062702  0.031010  0.036355  \n",
              "wind speed (m/s)                        -0.077188 -0.013349  0.024754  \n",
              "theoretical_power_curve (kwh)           -0.099076  0.004455  0.034636  \n",
              "wind direction (°)                       1.000000 -0.180712 -0.015355  \n",
              "month                                   -0.180712  1.000000  0.001510  \n",
              "hour                                    -0.015355  0.001510  1.000000  "
            ]
          },
          "metadata": {},
          "execution_count": 28
        }
      ]
    },
    {
      "cell_type": "markdown",
      "source": [
        "FInding where theoretical and real power production is zero"
      ],
      "metadata": {
        "id": "9H4o6yS0F2Kr"
      }
    },
    {
      "cell_type": "code",
      "source": [
        "# Filter the big data where the real and theoritical power productions are equal to 0\n",
        "zero_theo_power = df.filter((df['lv activepower (kw)'] == 0)\n",
        "                                  & (df['theoretical_power_curve (kwh)'] == 0)).toPandas()\n",
        "\n",
        "# Let's see the wind speed distribution for 0 power production\n",
        "zero_theo_power['wind speed (m/s)'].hist()\n",
        "plt.title('Wind Speed Distribution for 0 Power Production')\n",
        "plt.xlabel('Wind speed (m/s)')\n",
        "plt.ylabel('Counts for 0 Power Production');"
      ],
      "metadata": {
        "colab": {
          "base_uri": "https://localhost:8080/",
          "height": 295
        },
        "id": "8yqoFTko-38A",
        "outputId": "c1c26d03-0bcc-4ca9-abee-4c0085e2aa3c"
      },
      "execution_count": 29,
      "outputs": [
        {
          "output_type": "display_data",
          "data": {
            "image/png": "[encoded data removed]",
            "text/plain": [
              "<Figure size 432x288 with 1 Axes>"
            ]
          },
          "metadata": {}
        }
      ]
    },
    {
      "cell_type": "markdown",
      "source": [
        "The theoretical power curve has a limit of 3 m/s wind speed, as can be seen above. There is no power output if the wind speed is less than 3 m/s."
      ],
      "metadata": {
        "id": "Bj6tzD70KVh6"
      }
    },
    {
      "cell_type": "markdown",
      "source": [
        "Observations for the wind speed > 3m/s and power production = 0"
      ],
      "metadata": {
        "id": "xhGNVpj_GDWe"
      }
    },
    {
      "cell_type": "code",
      "source": [
        "# While theoritically there should be power production\n",
        "zero_power = df.filter((df['lv activepower (kw)'] == 0)\n",
        "                            & (df['theoretical_power_curve (kwh)'] != 0)\n",
        "                            & (df['wind speed (m/s)'] > 3)).toPandas()\n",
        "display(zero_power.head())\n",
        "print('No of Observations (while Wind Speed > 3 m/s and Power Production = 0): ', len(zero_power))"
      ],
      "metadata": {
        "colab": {
          "base_uri": "https://localhost:8080/",
          "height": 224
        },
        "id": "cgAzI-KPReyH",
        "outputId": "6a9ddbc8-4c32-4db6-d7ed-6ac9e0e80de2"
      },
      "execution_count": 30,
      "outputs": [
        {
          "output_type": "display_data",
          "data": {
            "text/html": [
              "\n",
              "  <div id=\"df-e09fbc67-f4a4-4e38-ac26-79f2cf08a1e8\">\n",
              "    <div class=\"colab-df-container\">\n",
              "      <div>\n",
              "<style scoped>\n",
              "    .dataframe tbody tr th:only-of-type {\n",
              "        vertical-align: middle;\n",
              "    }\n",
              "\n",
              "    .dataframe tbody tr th {\n",
              "        vertical-align: top;\n",
              "    }\n",
              "\n",
              "    .dataframe thead th {\n",
              "        text-align: right;\n",
              "    }\n",
              "</style>\n",
              "<table border=\"1\" class=\"dataframe\">\n",
              "  <thead>\n",
              "    <tr style=\"text-align: right;\">\n",
              "      <th></th>\n",
              "      <th>date/time</th>\n",
              "      <th>lv activepower (kw)</th>\n",
              "      <th>wind speed (m/s)</th>\n",
              "      <th>theoretical_power_curve (kwh)</th>\n",
              "      <th>wind direction (°)</th>\n",
              "      <th>month</th>\n",
              "      <th>hour</th>\n",
              "    </tr>\n",
              "  </thead>\n",
              "  <tbody>\n",
              "    <tr>\n",
              "      <th>0</th>\n",
              "      <td>03 01 2018 15:40</td>\n",
              "      <td>0.0</td>\n",
              "      <td>3.743307</td>\n",
              "      <td>83.986265</td>\n",
              "      <td>245.068207</td>\n",
              "      <td>1</td>\n",
              "      <td>15</td>\n",
              "    </tr>\n",
              "    <tr>\n",
              "      <th>1</th>\n",
              "      <td>03 01 2018 16:40</td>\n",
              "      <td>0.0</td>\n",
              "      <td>3.034003</td>\n",
              "      <td>17.180593</td>\n",
              "      <td>221.086502</td>\n",
              "      <td>1</td>\n",
              "      <td>16</td>\n",
              "    </tr>\n",
              "    <tr>\n",
              "      <th>2</th>\n",
              "      <td>03 01 2018 16:50</td>\n",
              "      <td>0.0</td>\n",
              "      <td>3.197354</td>\n",
              "      <td>25.431221</td>\n",
              "      <td>232.679596</td>\n",
              "      <td>1</td>\n",
              "      <td>16</td>\n",
              "    </tr>\n",
              "    <tr>\n",
              "      <th>3</th>\n",
              "      <td>03 01 2018 17:00</td>\n",
              "      <td>0.0</td>\n",
              "      <td>3.907811</td>\n",
              "      <td>110.979604</td>\n",
              "      <td>241.973099</td>\n",
              "      <td>1</td>\n",
              "      <td>17</td>\n",
              "    </tr>\n",
              "    <tr>\n",
              "      <th>4</th>\n",
              "      <td>04 01 2018 13:50</td>\n",
              "      <td>0.0</td>\n",
              "      <td>3.441704</td>\n",
              "      <td>45.742725</td>\n",
              "      <td>79.094109</td>\n",
              "      <td>1</td>\n",
              "      <td>13</td>\n",
              "    </tr>\n",
              "  </tbody>\n",
              "</table>\n",
              "</div>\n",
              "      <button class=\"colab-df-convert\" onclick=\"convertToInteractive('df-e09fbc67-f4a4-4e38-ac26-79f2cf08a1e8')\"\n",
              "              title=\"Convert this dataframe to an interactive table.\"\n",
              "              style=\"display:none;\">\n",
              "        \n",
              "  <svg xmlns=\"http://www.w3.org/2000/svg\" height=\"24px\"viewBox=\"0 0 24 24\"\n",
              "       width=\"24px\">\n",
              "    <path d=\"M0 0h24v24H0V0z\" fill=\"none\"/>\n",
              "    <path d=\"M18.56 5.44l.94 2.06.94-2.06 2.06-.94-2.06-.94-.94-2.06-.94 2.06-2.06.94zm-11 1L8.5 8.5l.94-2.06 2.06-.94-2.06-.94L8.5 2.5l-.94 2.06-2.06.94zm10 10l.94 2.06.94-2.06 2.06-.94-2.06-.94-.94-2.06-.94 2.06-2.06.94z\"/><path d=\"M17.41 7.96l-1.37-1.37c-.4-.4-.92-.59-1.43-.59-.52 0-1.04.2-1.43.59L10.3 9.45l-7.72 7.72c-.78.78-.78 2.05 0 2.83L4 21.41c.39.39.9.59 1.41.59.51 0 1.02-.2 1.41-.59l7.78-7.78 2.81-2.81c.8-.78.8-2.07 0-2.86zM5.41 20L4 18.59l7.72-7.72 1.47 1.35L5.41 20z\"/>\n",
              "  </svg>\n",
              "      </button>\n",
              "      \n",
              "  <style>\n",
              "    .colab-df-container {\n",
              "      display:flex;\n",
              "      flex-wrap:wrap;\n",
              "      gap: 12px;\n",
              "    }\n",
              "\n",
              "    .colab-df-convert {\n",
              "      background-color: #E8F0FE;\n",
              "      border: none;\n",
              "      border-radius: 50%;\n",
              "      cursor: pointer;\n",
              "      display: none;\n",
              "      fill: #1967D2;\n",
              "      height: 32px;\n",
              "      padding: 0 0 0 0;\n",
              "      width: 32px;\n",
              "    }\n",
              "\n",
              "    .colab-df-convert:hover {\n",
              "      background-color: #E2EBFA;\n",
              "      box-shadow: 0px 1px 2px rgba(60, 64, 67, 0.3), 0px 1px 3px 1px rgba(60, 64, 67, 0.15);\n",
              "      fill: #174EA6;\n",
              "    }\n",
              "\n",
              "    [theme=dark] .colab-df-convert {\n",
              "      background-color: #3B4455;\n",
              "      fill: #D2E3FC;\n",
              "    }\n",
              "\n",
              "    [theme=dark] .colab-df-convert:hover {\n",
              "      background-color: #434B5C;\n",
              "      box-shadow: 0px 1px 3px 1px rgba(0, 0, 0, 0.15);\n",
              "      filter: drop-shadow(0px 1px 2px rgba(0, 0, 0, 0.3));\n",
              "      fill: #FFFFFF;\n",
              "    }\n",
              "  </style>\n",
              "\n",
              "      <script>\n",
              "        const buttonEl =\n",
              "          document.querySelector('#df-e09fbc67-f4a4-4e38-ac26-79f2cf08a1e8 button.colab-df-convert');\n",
              "        buttonEl.style.display =\n",
              "          google.colab.kernel.accessAllowed ? 'block' : 'none';\n",
              "\n",
              "        async function convertToInteractive(key) {\n",
              "          const element = document.querySelector('#df-e09fbc67-f4a4-4e38-ac26-79f2cf08a1e8');\n",
              "          const dataTable =\n",
              "            await google.colab.kernel.invokeFunction('convertToInteractive',\n",
              "                                                     [key], {});\n",
              "          if (!dataTable) return;\n",
              "\n",
              "          const docLinkHtml = 'Like what you see? Visit the ' +\n",
              "            '<a target=\"_blank\" href=https://colab.research.google.com/notebooks/data_table.ipynb>data table notebook</a>'\n",
              "            + ' to learn more about interactive tables.';\n",
              "          element.innerHTML = '';\n",
              "          dataTable['output_type'] = 'display_data';\n",
              "          await google.colab.output.renderOutput(dataTable, element);\n",
              "          const docLink = document.createElement('div');\n",
              "          docLink.innerHTML = docLinkHtml;\n",
              "          element.appendChild(docLink);\n",
              "        }\n",
              "      </script>\n",
              "    </div>\n",
              "  </div>\n",
              "  "
            ],
            "text/plain": [
              "          date/time  lv activepower (kw)  wind speed (m/s)  \\\n",
              "0  03 01 2018 15:40                  0.0          3.743307   \n",
              "1  03 01 2018 16:40                  0.0          3.034003   \n",
              "2  03 01 2018 16:50                  0.0          3.197354   \n",
              "3  03 01 2018 17:00                  0.0          3.907811   \n",
              "4  04 01 2018 13:50                  0.0          3.441704   \n",
              "\n",
              "   theoretical_power_curve (kwh)  wind direction (°)  month  hour  \n",
              "0                      83.986265          245.068207      1    15  \n",
              "1                      17.180593          221.086502      1    16  \n",
              "2                      25.431221          232.679596      1    16  \n",
              "3                     110.979604          241.973099      1    17  \n",
              "4                      45.742725           79.094109      1    13  "
            ]
          },
          "metadata": {}
        },
        {
          "output_type": "stream",
          "name": "stdout",
          "text": [
            "No of Observations (while Wind Speed > 3 m/s and Power Production = 0):  3497\n"
          ]
        }
      ]
    },
    {
      "cell_type": "markdown",
      "source": [
        "There are 3497 observations where theoretically there should be power production"
      ],
      "metadata": {
        "id": "dHOWyw9KRvJ8"
      }
    },
    {
      "cell_type": "code",
      "source": [
        "zero_power['wind speed (m/s)'].plot.hist(bins=8)\n",
        "plt.xlabel('Wind Speed (m/s)')\n",
        "plt.ylabel('Counts for Zero Production')\n",
        "plt.title('Wind Speed Counts for Zero Power Production')\n",
        "plt.xticks(ticks=np.arange(4,18,2));"
      ],
      "metadata": {
        "colab": {
          "base_uri": "https://localhost:8080/",
          "height": 295
        },
        "id": "QguW-Mz0SET6",
        "outputId": "0f47d527-790d-4664-d522-31bf9902b278"
      },
      "execution_count": 31,
      "outputs": [
        {
          "output_type": "display_data",
          "data": {
            "image/png": "[encoded data removed]",
            "text/plain": [
              "<Figure size 432x288 with 1 Axes>"
            ]
          },
          "metadata": {}
        }
      ]
    },
    {
      "cell_type": "markdown",
      "source": [
        "Theoretically, the wind speed barrier should be 4 m/s. However, there have been instances where no power is produced while the wind speed is higher."
      ],
      "metadata": {
        "id": "s8zbdHHzSPhj"
      }
    },
    {
      "cell_type": "markdown",
      "source": [
        "Monthly distribution for zero power production"
      ],
      "metadata": {
        "id": "D-RXdVh0G1jW"
      }
    },
    {
      "cell_type": "code",
      "source": [
        "plt.figure(figsize=(15,5))\n",
        "sns.countplot(zero_power['month'], palette='crest');"
      ],
      "metadata": {
        "colab": {
          "base_uri": "https://localhost:8080/",
          "height": 334
        },
        "id": "bUmtXT24SQUl",
        "outputId": "db6980e5-8b2f-4c76-a623-328267dab293"
      },
      "execution_count": 32,
      "outputs": [
        {
          "output_type": "display_data",
          "data": {
            "image/png": "[encoded data removed]",
            "text/plain": [
              "<Figure size 1080x360 with 1 Axes>"
            ]
          },
          "metadata": {}
        }
      ]
    },
    {
      "cell_type": "markdown",
      "source": [
        "The wind turbine normally does not produce in the months of December and January."
      ],
      "metadata": {
        "id": "M3Ld6nZfSX69"
      }
    },
    {
      "cell_type": "markdown",
      "source": [
        "Removing 3497 observations from tha dataset where windspeed is > 3 m/s but power production is zero as the reason for this observation is totally unknown."
      ],
      "metadata": {
        "id": "DAyOhdjBS0Qq"
      }
    },
    {
      "cell_type": "code",
      "source": [
        "df = df.filter(~((df['lv activepower (kw)'] == 0)\n",
        "                            & (df['theoretical_power_curve (kwh)'] != 0)\n",
        "                            & (df['wind speed (m/s)'] > 3)))"
      ],
      "metadata": {
        "id": "zefPHGEOSfVD"
      },
      "execution_count": 33,
      "outputs": []
    },
    {
      "cell_type": "markdown",
      "source": [
        "CHecking no of rows after removing those observations."
      ],
      "metadata": {
        "id": "-kiOg1loHA1E"
      }
    },
    {
      "cell_type": "code",
      "source": [
        "print((df.count(),len(df.columns)))"
      ],
      "metadata": {
        "colab": {
          "base_uri": "https://localhost:8080/"
        },
        "id": "VaqUY2uYs_vW",
        "outputId": "ed181b43-a32a-4587-eabb-579e25ae5107"
      },
      "execution_count": 34,
      "outputs": [
        {
          "output_type": "stream",
          "name": "stdout",
          "text": [
            "(47033, 7)\n"
          ]
        }
      ]
    },
    {
      "cell_type": "markdown",
      "source": [
        "Plotting boxplot to check the outlier for wind speed again "
      ],
      "metadata": {
        "id": "14ZPRAesHH0X"
      }
    },
    {
      "cell_type": "code",
      "source": [
        "df_plot = df.select(['wind speed (m/s)']).toPandas()\n",
        "plt.figure(figsize=(10,5))\n",
        "sns.boxplot(df_plot['wind speed (m/s)'], color ='cadetblue', linewidth=2.5, fliersize=2.5)\n",
        "plt.title('Distribution of Wind Speed (m/s)')"
      ],
      "metadata": {
        "colab": {
          "base_uri": "https://localhost:8080/",
          "height": 367
        },
        "id": "XwQKBX-BTKy3",
        "outputId": "a59be2ec-2fe9-4613-f406-3e0fbfee0bed"
      },
      "execution_count": 35,
      "outputs": [
        {
          "output_type": "execute_result",
          "data": {
            "text/plain": [
              "Text(0.5, 1.0, 'Distribution of Wind Speed (m/s)')"
            ]
          },
          "metadata": {},
          "execution_count": 35
        },
        {
          "output_type": "display_data",
          "data": {
            "image/png": "[encoded data removed]",
            "text/plain": [
              "<Figure size 720x360 with 1 Axes>"
            ]
          },
          "metadata": {}
        }
      ]
    },
    {
      "cell_type": "markdown",
      "source": [
        "Still there are outliers which need to be treated for further analysis."
      ],
      "metadata": {
        "id": "4CrzoQDNHOmE"
      }
    },
    {
      "cell_type": "code",
      "source": [
        "# Create a pandas df for visualization\n",
        "wind_speed = df.select('wind speed (m/s)').toPandas()\n",
        "\n",
        "# Defining the quantiles and interquantile range\n",
        "Q1 = wind_speed['wind speed (m/s)'].quantile(0.25)\n",
        "Q3 = wind_speed['wind speed (m/s)'].quantile(0.75)\n",
        "IQR = Q3-Q1\n",
        "# Defining the lower and upper threshold values\n",
        "lower = Q1 - 1.5*IQR\n",
        "upper = Q3 + 1.5*IQR\n",
        "\n",
        "print('Lower whisker: ', lower, ' Upper whisker: ', upper)"
      ],
      "metadata": {
        "colab": {
          "base_uri": "https://localhost:8080/"
        },
        "id": "1wzNRJaQpMhw",
        "outputId": "42781b0f-1282-4fa2-b8e0-c8e38fe87d94"
      },
      "execution_count": 36,
      "outputs": [
        {
          "output_type": "stream",
          "name": "stdout",
          "text": [
            "Lower whisker:  -4.576168060302599  Upper whisker:  19.50920486450172\n"
          ]
        }
      ]
    },
    {
      "cell_type": "markdown",
      "source": [
        "FInding total no of outliers for wind speed"
      ],
      "metadata": {
        "id": "pfwM8FW_HbG1"
      }
    },
    {
      "cell_type": "code",
      "source": [
        "outlier_tf = (wind_speed['wind speed (m/s)'] < lower) | (wind_speed['wind speed (m/s)'] > upper)\n",
        "\n",
        "print('Total Number of Outliers: ', len(wind_speed['wind speed (m/s)'][outlier_tf]))"
      ],
      "metadata": {
        "colab": {
          "base_uri": "https://localhost:8080/"
        },
        "id": "EjyUg1PRrARC",
        "outputId": "1bbbfc13-5d77-4f45-94bd-0715fcd67284"
      },
      "execution_count": 37,
      "outputs": [
        {
          "output_type": "stream",
          "name": "stdout",
          "text": [
            "Total Number of Outliers:  407\n"
          ]
        }
      ]
    },
    {
      "cell_type": "markdown",
      "source": [
        "Treating the outliers with upper whisker value"
      ],
      "metadata": {
        "id": "rDcG7Q8CHjT1"
      }
    },
    {
      "cell_type": "code",
      "source": [
        "from pyspark.sql import functions as F\n",
        "df = df.withColumn('wind speed (m/s)', \n",
        "                               F.when(F.col('wind speed (m/s)') > 19.50, 19)\n",
        "                               .otherwise(F.col('wind speed (m/s)')))"
      ],
      "metadata": {
        "id": "cRzR9pq0_69b"
      },
      "execution_count": 38,
      "outputs": []
    },
    {
      "cell_type": "markdown",
      "source": [
        "**Preparing Data for Machine Learning Algorithms**"
      ],
      "metadata": {
        "id": "7rqaod-fIM1n"
      }
    },
    {
      "cell_type": "markdown",
      "source": [
        "Vector assembler is used to combine numerous columns into a vector column, which was then produced as a single feature column. All of the necessary columns have inputs."
      ],
      "metadata": {
        "id": "z0PlrmEyHuWb"
      }
    },
    {
      "cell_type": "code",
      "source": [
        "# Preparing the independent variables (Features)\n",
        "from pyspark.ml.feature import VectorAssembler\n",
        "\n",
        "# Converting lv activepower (kw) variable as label\n",
        "df = df.withColumn('label', df['lv activepower (kw)'])\n",
        "\n",
        "# Defining the variables to be used\n",
        "variables = ['month', 'hour', 'wind speed (m/s)', 'wind direction (°)']\n",
        "vectorAssembler = VectorAssembler(inputCols = variables, outputCol = 'features')\n",
        "va_df = vectorAssembler.transform(df)\n",
        "\n",
        "# Combining features and label column\n",
        "final_df = va_df.select('features', 'label')\n",
        "final_df.show(10)"
      ],
      "metadata": {
        "colab": {
          "base_uri": "https://localhost:8080/"
        },
        "id": "nnjJB4KluXhO",
        "outputId": "091ba664-5fd3-4ba7-8739-e6f6bf92f195"
      },
      "execution_count": 39,
      "outputs": [
        {
          "output_type": "stream",
          "name": "stdout",
          "text": [
            "+--------------------+----------------+\n",
            "|            features|           label|\n",
            "+--------------------+----------------+\n",
            "|[1.0,0.0,5.311336...|380.047790527343|\n",
            "|[1.0,0.0,5.672166...| 453.76919555664|\n",
            "|[1.0,0.0,5.216036...|306.376586914062|\n",
            "|[1.0,0.0,5.659674...|419.645904541015|\n",
            "|[1.0,0.0,5.577940...|380.650695800781|\n",
            "|[1.0,0.0,5.604052...|402.391998291015|\n",
            "|[1.0,1.0,5.793007...|447.605712890625|\n",
            "|[1.0,1.0,5.306049...|     387.2421875|\n",
            "|[1.0,1.0,5.584629...|463.651214599609|\n",
            "|[1.0,1.0,5.523228...|439.725708007812|\n",
            "+--------------------+----------------+\n",
            "only showing top 10 rows\n",
            "\n"
          ]
        }
      ]
    },
    {
      "cell_type": "markdown",
      "source": [
        "To do machine learning model creation and verification, divide the data into training and test datasets."
      ],
      "metadata": {
        "id": "qfHdiY9ZIfxN"
      }
    },
    {
      "cell_type": "code",
      "source": [
        "splits = final_df.randomSplit([0.8, 0.2])\n",
        "train_df = splits[0]\n",
        "test_df = splits[1]\n",
        "\n",
        "print('Train dataset: ', train_df.count())\n",
        "print('Test dataset : ', test_df.count())"
      ],
      "metadata": {
        "colab": {
          "base_uri": "https://localhost:8080/"
        },
        "id": "8OnKqPWcueJ4",
        "outputId": "7fdeb7d5-262a-45c5-92d1-66d31685bfd5"
      },
      "execution_count": 40,
      "outputs": [
        {
          "output_type": "stream",
          "name": "stdout",
          "text": [
            "Train dataset:  37840\n",
            "Test dataset :  9193\n"
          ]
        }
      ]
    },
    {
      "cell_type": "markdown",
      "source": [
        "**LInear Regression**"
      ],
      "metadata": {
        "id": "6eUeYkbnTcah"
      }
    },
    {
      "cell_type": "markdown",
      "source": [
        "Linear Regression is a machine learning algorithm based on supervised learning. It performs a regression task. Regression models a target prediction value based on independent variables. It is mostly used for finding out the relationship between dependent  and independent variables.\n",
        "\n",
        "For implementing the model from pyspark ml regression model imported the Linear Regression. Created an instance of that with mentioning the feature columns , label columns and model type.Fit the model into the train data and performed prediction with test data.\n",
        "\n",
        "For evaluation of the performance of the model from pyspark ml evaluation imported the Regression Evaluator and measured the R2 score and RMSE."
      ],
      "metadata": {
        "id": "FtJaSG0kKZIo"
      }
    },
    {
      "cell_type": "code",
      "source": [
        "from pyspark.ml.regression import LinearRegression\n",
        "lr= LinearRegression(featuresCol = 'features', labelCol='label')\n",
        "lr_model=lr.fit(train_df)\n",
        "y_pred=lr_model.transform(test_df)\n",
        "y_pred.select('label','prediction').show(10)\n",
        "\n",
        "#evaluation metrics\n",
        "from pyspark.ml.evaluation import RegressionEvaluator\n",
        "\n",
        "evaluator = RegressionEvaluator(predictionCol='prediction', labelCol='label')\n",
        "\n",
        "print('R2 SCORE : ', evaluator.evaluate(y_pred, {evaluator.metricName: 'r2'}))\n",
        "print('RMSE     : ', evaluator.evaluate(y_pred, {evaluator.metricName: 'rmse'}))"
      ],
      "metadata": {
        "colab": {
          "base_uri": "https://localhost:8080/"
        },
        "id": "pIhL6lQxutEW",
        "outputId": "4c6feda4-2783-4939-f09c-b9c7fe9ce628"
      },
      "execution_count": 41,
      "outputs": [
        {
          "output_type": "stream",
          "name": "stdout",
          "text": [
            "+----------------+------------------+\n",
            "|           label|        prediction|\n",
            "+----------------+------------------+\n",
            "|             0.0|-355.9957650919537|\n",
            "|320.979614257812|  580.471198781785|\n",
            "|296.469909667968| 601.6748120122791|\n",
            "|355.225006103515| 644.1379350578172|\n",
            "| 429.36538696289| 697.4042712199832|\n",
            "|402.391998291015| 761.0347595431808|\n",
            "|639.275573730468| 824.0825490017196|\n",
            "|685.547424316406| 860.9350382098112|\n",
            "|1183.02099609375|1204.6208018270827|\n",
            "|842.209289550781|1220.7700357498097|\n",
            "+----------------+------------------+\n",
            "only showing top 10 rows\n",
            "\n",
            "R2 SCORE :  0.8885649287821278\n",
            "RMSE     :  435.2652768367119\n"
          ]
        }
      ]
    },
    {
      "cell_type": "markdown",
      "source": [
        "**Random Forest Regression**"
      ],
      "metadata": {
        "id": "QMzw3iwBThhx"
      }
    },
    {
      "cell_type": "markdown",
      "source": [
        "Random Forest is a popular machine learning algorithm that belongs to the supervised learning technique. It can be used for both Classification and Regression problems in ML. It is based on the concept of ensemble learning, which is a process of combining multiple classifiers to solve a complex problem and to improve the performance of the model.\n",
        "\n",
        "For implementing the model from pyspark ml regression model imported the Random Forest regressor. Created a instance of that with mentioning the feature columns , label columns and model type.Fit the model into the train data and performed prediction with test data.\n",
        "\n",
        "For evaluation of the performance of the model from pyspark ml evaluation imported the BRegreesion Evaluator and measured the R2 score and RMSE."
      ],
      "metadata": {
        "id": "ulsB3l45Tow_"
      }
    },
    {
      "cell_type": "code",
      "source": [
        "from pyspark.ml.regression import RandomForestRegressor\n",
        "rf= RandomForestRegressor(featuresCol = 'features', labelCol='label')\n",
        "rf_model=rf.fit(train_df)\n",
        "y_pred=rf_model.transform(test_df)\n",
        "y_pred.select('label','prediction').show(10)\n",
        "\n",
        "#evaluation metrics\n",
        "from pyspark.ml.evaluation import RegressionEvaluator\n",
        "\n",
        "evaluator = RegressionEvaluator(predictionCol='prediction', labelCol='label')\n",
        "\n",
        "print('R2 SCORE : ', evaluator.evaluate(y_pred, {evaluator.metricName: 'r2'}))\n",
        "print('RMSE     : ', evaluator.evaluate(y_pred, {evaluator.metricName: 'rmse'}))"
      ],
      "metadata": {
        "colab": {
          "base_uri": "https://localhost:8080/"
        },
        "id": "AXUNSIukx8Nh",
        "outputId": "e33ea0fd-db06-4d69-e608-d47152ecd6af"
      },
      "execution_count": 42,
      "outputs": [
        {
          "output_type": "stream",
          "name": "stdout",
          "text": [
            "+----------------+------------------+\n",
            "|           label|        prediction|\n",
            "+----------------+------------------+\n",
            "|             0.0| 169.9079267562143|\n",
            "|320.979614257812|349.26826461148676|\n",
            "|296.469909667968|349.26826461148676|\n",
            "|355.225006103515| 360.2225607148378|\n",
            "| 429.36538696289| 360.2225607148378|\n",
            "|402.391998291015| 398.1036455126074|\n",
            "|639.275573730468| 458.1529041567313|\n",
            "|685.547424316406|506.05883342143414|\n",
            "|1183.02099609375|1014.1620951515963|\n",
            "|842.209289550781|1014.1620951515963|\n",
            "+----------------+------------------+\n",
            "only showing top 10 rows\n",
            "\n",
            "R2 SCORE :  0.9690603065956375\n",
            "RMSE     :  229.35123245330666\n"
          ]
        }
      ]
    }
  ]
}